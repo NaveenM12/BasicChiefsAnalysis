{
 "cells": [
  {
   "cell_type": "markdown",
   "id": "federal-wedding",
   "metadata": {},
   "source": [
    "Import libraries to use later"
   ]
  },
  {
   "cell_type": "code",
   "execution_count": 1,
   "id": "sealed-chambers",
   "metadata": {},
   "outputs": [],
   "source": [
    "suppressPackageStartupMessages(library('caret'))\n",
    "suppressPackageStartupMessages(library('mlbench'))\n",
    "suppressPackageStartupMessages(library(plyr))"
   ]
  },
  {
   "cell_type": "code",
   "execution_count": 2,
   "id": "specific-lesbian",
   "metadata": {},
   "outputs": [],
   "source": [
    "setwd(\"/Users/naveenmirapuri/Downloads/\")"
   ]
  },
  {
   "cell_type": "markdown",
   "id": "nuclear-pollution",
   "metadata": {},
   "source": [
    "## Reading in Data"
   ]
  },
  {
   "cell_type": "markdown",
   "id": "hired-combine",
   "metadata": {},
   "source": [
    "Read in Chiefs PFF data rankings from the past two seasons.\n",
    "\n",
    "'Time' refers to the time of day of the game on a scale of 1.0(early afternoon) to 3.0(evening)\n",
    "\n",
    "'Result' refers to the point differential of the game, with a line of 'Chiefs -3.5' (Over is a win by more than 3. Under is a loss by 3 or less or a win.) "
   ]
  },
  {
   "cell_type": "code",
   "execution_count": 3,
   "id": "digital-stream",
   "metadata": {},
   "outputs": [
    {
     "data": {
      "text/html": [
       "<table>\n",
       "<caption>A data.frame: 6 × 13</caption>\n",
       "<thead>\n",
       "\t<tr><th></th><th scope=col>Time</th><th scope=col>Result</th><th scope=col>PA</th><th scope=col>PASS</th><th scope=col>PBLK</th><th scope=col>RECV</th><th scope=col>RUN</th><th scope=col>RBLK</th><th scope=col>RDEF</th><th scope=col>TACK</th><th scope=col>PRSH</th><th scope=col>COV</th><th scope=col>SPEC</th></tr>\n",
       "\t<tr><th></th><th scope=col>&lt;dbl&gt;</th><th scope=col>&lt;chr&gt;</th><th scope=col>&lt;int&gt;</th><th scope=col>&lt;dbl&gt;</th><th scope=col>&lt;dbl&gt;</th><th scope=col>&lt;dbl&gt;</th><th scope=col>&lt;dbl&gt;</th><th scope=col>&lt;dbl&gt;</th><th scope=col>&lt;dbl&gt;</th><th scope=col>&lt;dbl&gt;</th><th scope=col>&lt;dbl&gt;</th><th scope=col>&lt;dbl&gt;</th><th scope=col>&lt;dbl&gt;</th></tr>\n",
       "</thead>\n",
       "<tbody>\n",
       "\t<tr><th scope=row>1</th><td>3.0</td><td>O</td><td>20</td><td>67.7</td><td>70.9</td><td>77.4</td><td>71.5</td><td>64.2</td><td>31.8</td><td>29.8</td><td>59.7</td><td>49.4</td><td>67.7</td></tr>\n",
       "\t<tr><th scope=row>2</th><td>2.0</td><td>U</td><td>20</td><td>78.8</td><td>62.7</td><td>66.4</td><td>73.5</td><td>65.1</td><td>59.3</td><td>39.3</td><td>68.6</td><td>56.3</td><td>44.5</td></tr>\n",
       "\t<tr><th scope=row>3</th><td>3.0</td><td>O</td><td>20</td><td>91.5</td><td>84.5</td><td>74.3</td><td>52.3</td><td>56.9</td><td>30.9</td><td>51.0</td><td>63.6</td><td>69.3</td><td>65.4</td></tr>\n",
       "\t<tr><th scope=row>4</th><td>3.0</td><td>O</td><td>10</td><td>44.5</td><td>78.0</td><td>66.2</td><td>57.6</td><td>69.2</td><td>69.7</td><td>75.8</td><td>58.3</td><td>64.4</td><td>61.1</td></tr>\n",
       "\t<tr><th scope=row>5</th><td>1.0</td><td>U</td><td>40</td><td>84.1</td><td>71.5</td><td>72.7</td><td>55.2</td><td>59.8</td><td>60.0</td><td>59.9</td><td>62.4</td><td>47.2</td><td>55.0</td></tr>\n",
       "\t<tr><th scope=row>6</th><td>2.5</td><td>O</td><td>17</td><td>68.6</td><td>72.5</td><td>60.2</td><td>76.0</td><td>79.5</td><td>75.5</td><td>68.6</td><td>64.6</td><td>61.7</td><td>60.5</td></tr>\n",
       "</tbody>\n",
       "</table>\n"
      ],
      "text/latex": [
       "A data.frame: 6 × 13\n",
       "\\begin{tabular}{r|lllllllllllll}\n",
       "  & Time & Result & PA & PASS & PBLK & RECV & RUN & RBLK & RDEF & TACK & PRSH & COV & SPEC\\\\\n",
       "  & <dbl> & <chr> & <int> & <dbl> & <dbl> & <dbl> & <dbl> & <dbl> & <dbl> & <dbl> & <dbl> & <dbl> & <dbl>\\\\\n",
       "\\hline\n",
       "\t1 & 3.0 & O & 20 & 67.7 & 70.9 & 77.4 & 71.5 & 64.2 & 31.8 & 29.8 & 59.7 & 49.4 & 67.7\\\\\n",
       "\t2 & 2.0 & U & 20 & 78.8 & 62.7 & 66.4 & 73.5 & 65.1 & 59.3 & 39.3 & 68.6 & 56.3 & 44.5\\\\\n",
       "\t3 & 3.0 & O & 20 & 91.5 & 84.5 & 74.3 & 52.3 & 56.9 & 30.9 & 51.0 & 63.6 & 69.3 & 65.4\\\\\n",
       "\t4 & 3.0 & O & 10 & 44.5 & 78.0 & 66.2 & 57.6 & 69.2 & 69.7 & 75.8 & 58.3 & 64.4 & 61.1\\\\\n",
       "\t5 & 1.0 & U & 40 & 84.1 & 71.5 & 72.7 & 55.2 & 59.8 & 60.0 & 59.9 & 62.4 & 47.2 & 55.0\\\\\n",
       "\t6 & 2.5 & O & 17 & 68.6 & 72.5 & 60.2 & 76.0 & 79.5 & 75.5 & 68.6 & 64.6 & 61.7 & 60.5\\\\\n",
       "\\end{tabular}\n"
      ],
      "text/markdown": [
       "\n",
       "A data.frame: 6 × 13\n",
       "\n",
       "| <!--/--> | Time &lt;dbl&gt; | Result &lt;chr&gt; | PA &lt;int&gt; | PASS &lt;dbl&gt; | PBLK &lt;dbl&gt; | RECV &lt;dbl&gt; | RUN &lt;dbl&gt; | RBLK &lt;dbl&gt; | RDEF &lt;dbl&gt; | TACK &lt;dbl&gt; | PRSH &lt;dbl&gt; | COV &lt;dbl&gt; | SPEC &lt;dbl&gt; |\n",
       "|---|---|---|---|---|---|---|---|---|---|---|---|---|---|\n",
       "| 1 | 3.0 | O | 20 | 67.7 | 70.9 | 77.4 | 71.5 | 64.2 | 31.8 | 29.8 | 59.7 | 49.4 | 67.7 |\n",
       "| 2 | 2.0 | U | 20 | 78.8 | 62.7 | 66.4 | 73.5 | 65.1 | 59.3 | 39.3 | 68.6 | 56.3 | 44.5 |\n",
       "| 3 | 3.0 | O | 20 | 91.5 | 84.5 | 74.3 | 52.3 | 56.9 | 30.9 | 51.0 | 63.6 | 69.3 | 65.4 |\n",
       "| 4 | 3.0 | O | 10 | 44.5 | 78.0 | 66.2 | 57.6 | 69.2 | 69.7 | 75.8 | 58.3 | 64.4 | 61.1 |\n",
       "| 5 | 1.0 | U | 40 | 84.1 | 71.5 | 72.7 | 55.2 | 59.8 | 60.0 | 59.9 | 62.4 | 47.2 | 55.0 |\n",
       "| 6 | 2.5 | O | 17 | 68.6 | 72.5 | 60.2 | 76.0 | 79.5 | 75.5 | 68.6 | 64.6 | 61.7 | 60.5 |\n",
       "\n"
      ],
      "text/plain": [
       "  Time Result PA PASS PBLK RECV RUN  RBLK RDEF TACK PRSH COV  SPEC\n",
       "1 3.0  O      20 67.7 70.9 77.4 71.5 64.2 31.8 29.8 59.7 49.4 67.7\n",
       "2 2.0  U      20 78.8 62.7 66.4 73.5 65.1 59.3 39.3 68.6 56.3 44.5\n",
       "3 3.0  O      20 91.5 84.5 74.3 52.3 56.9 30.9 51.0 63.6 69.3 65.4\n",
       "4 3.0  O      10 44.5 78.0 66.2 57.6 69.2 69.7 75.8 58.3 64.4 61.1\n",
       "5 1.0  U      40 84.1 71.5 72.7 55.2 59.8 60.0 59.9 62.4 47.2 55.0\n",
       "6 2.5  O      17 68.6 72.5 60.2 76.0 79.5 75.5 68.6 64.6 61.7 60.5"
      ]
     },
     "metadata": {},
     "output_type": "display_data"
    }
   ],
   "source": [
    "df <- read.csv(file='Chiefs19_20_edited.csv')\n",
    "head(df)"
   ]
  },
  {
   "cell_type": "markdown",
   "id": "buried-wagon",
   "metadata": {},
   "source": [
    "Remove the 'Points Allowed' metric, as it isn't specific enough and will otherwise dominate the model"
   ]
  },
  {
   "cell_type": "code",
   "execution_count": 4,
   "id": "equivalent-letters",
   "metadata": {},
   "outputs": [
    {
     "data": {
      "text/html": [
       "<table>\n",
       "<caption>A data.frame: 6 × 12</caption>\n",
       "<thead>\n",
       "\t<tr><th></th><th scope=col>Time</th><th scope=col>Result</th><th scope=col>PASS</th><th scope=col>PBLK</th><th scope=col>RECV</th><th scope=col>RUN</th><th scope=col>RBLK</th><th scope=col>RDEF</th><th scope=col>TACK</th><th scope=col>PRSH</th><th scope=col>COV</th><th scope=col>SPEC</th></tr>\n",
       "\t<tr><th></th><th scope=col>&lt;dbl&gt;</th><th scope=col>&lt;chr&gt;</th><th scope=col>&lt;dbl&gt;</th><th scope=col>&lt;dbl&gt;</th><th scope=col>&lt;dbl&gt;</th><th scope=col>&lt;dbl&gt;</th><th scope=col>&lt;dbl&gt;</th><th scope=col>&lt;dbl&gt;</th><th scope=col>&lt;dbl&gt;</th><th scope=col>&lt;dbl&gt;</th><th scope=col>&lt;dbl&gt;</th><th scope=col>&lt;dbl&gt;</th></tr>\n",
       "</thead>\n",
       "<tbody>\n",
       "\t<tr><th scope=row>1</th><td>3.0</td><td>O</td><td>67.7</td><td>70.9</td><td>77.4</td><td>71.5</td><td>64.2</td><td>31.8</td><td>29.8</td><td>59.7</td><td>49.4</td><td>67.7</td></tr>\n",
       "\t<tr><th scope=row>2</th><td>2.0</td><td>U</td><td>78.8</td><td>62.7</td><td>66.4</td><td>73.5</td><td>65.1</td><td>59.3</td><td>39.3</td><td>68.6</td><td>56.3</td><td>44.5</td></tr>\n",
       "\t<tr><th scope=row>3</th><td>3.0</td><td>O</td><td>91.5</td><td>84.5</td><td>74.3</td><td>52.3</td><td>56.9</td><td>30.9</td><td>51.0</td><td>63.6</td><td>69.3</td><td>65.4</td></tr>\n",
       "\t<tr><th scope=row>4</th><td>3.0</td><td>O</td><td>44.5</td><td>78.0</td><td>66.2</td><td>57.6</td><td>69.2</td><td>69.7</td><td>75.8</td><td>58.3</td><td>64.4</td><td>61.1</td></tr>\n",
       "\t<tr><th scope=row>5</th><td>1.0</td><td>U</td><td>84.1</td><td>71.5</td><td>72.7</td><td>55.2</td><td>59.8</td><td>60.0</td><td>59.9</td><td>62.4</td><td>47.2</td><td>55.0</td></tr>\n",
       "\t<tr><th scope=row>6</th><td>2.5</td><td>O</td><td>68.6</td><td>72.5</td><td>60.2</td><td>76.0</td><td>79.5</td><td>75.5</td><td>68.6</td><td>64.6</td><td>61.7</td><td>60.5</td></tr>\n",
       "</tbody>\n",
       "</table>\n"
      ],
      "text/latex": [
       "A data.frame: 6 × 12\n",
       "\\begin{tabular}{r|llllllllllll}\n",
       "  & Time & Result & PASS & PBLK & RECV & RUN & RBLK & RDEF & TACK & PRSH & COV & SPEC\\\\\n",
       "  & <dbl> & <chr> & <dbl> & <dbl> & <dbl> & <dbl> & <dbl> & <dbl> & <dbl> & <dbl> & <dbl> & <dbl>\\\\\n",
       "\\hline\n",
       "\t1 & 3.0 & O & 67.7 & 70.9 & 77.4 & 71.5 & 64.2 & 31.8 & 29.8 & 59.7 & 49.4 & 67.7\\\\\n",
       "\t2 & 2.0 & U & 78.8 & 62.7 & 66.4 & 73.5 & 65.1 & 59.3 & 39.3 & 68.6 & 56.3 & 44.5\\\\\n",
       "\t3 & 3.0 & O & 91.5 & 84.5 & 74.3 & 52.3 & 56.9 & 30.9 & 51.0 & 63.6 & 69.3 & 65.4\\\\\n",
       "\t4 & 3.0 & O & 44.5 & 78.0 & 66.2 & 57.6 & 69.2 & 69.7 & 75.8 & 58.3 & 64.4 & 61.1\\\\\n",
       "\t5 & 1.0 & U & 84.1 & 71.5 & 72.7 & 55.2 & 59.8 & 60.0 & 59.9 & 62.4 & 47.2 & 55.0\\\\\n",
       "\t6 & 2.5 & O & 68.6 & 72.5 & 60.2 & 76.0 & 79.5 & 75.5 & 68.6 & 64.6 & 61.7 & 60.5\\\\\n",
       "\\end{tabular}\n"
      ],
      "text/markdown": [
       "\n",
       "A data.frame: 6 × 12\n",
       "\n",
       "| <!--/--> | Time &lt;dbl&gt; | Result &lt;chr&gt; | PASS &lt;dbl&gt; | PBLK &lt;dbl&gt; | RECV &lt;dbl&gt; | RUN &lt;dbl&gt; | RBLK &lt;dbl&gt; | RDEF &lt;dbl&gt; | TACK &lt;dbl&gt; | PRSH &lt;dbl&gt; | COV &lt;dbl&gt; | SPEC &lt;dbl&gt; |\n",
       "|---|---|---|---|---|---|---|---|---|---|---|---|---|\n",
       "| 1 | 3.0 | O | 67.7 | 70.9 | 77.4 | 71.5 | 64.2 | 31.8 | 29.8 | 59.7 | 49.4 | 67.7 |\n",
       "| 2 | 2.0 | U | 78.8 | 62.7 | 66.4 | 73.5 | 65.1 | 59.3 | 39.3 | 68.6 | 56.3 | 44.5 |\n",
       "| 3 | 3.0 | O | 91.5 | 84.5 | 74.3 | 52.3 | 56.9 | 30.9 | 51.0 | 63.6 | 69.3 | 65.4 |\n",
       "| 4 | 3.0 | O | 44.5 | 78.0 | 66.2 | 57.6 | 69.2 | 69.7 | 75.8 | 58.3 | 64.4 | 61.1 |\n",
       "| 5 | 1.0 | U | 84.1 | 71.5 | 72.7 | 55.2 | 59.8 | 60.0 | 59.9 | 62.4 | 47.2 | 55.0 |\n",
       "| 6 | 2.5 | O | 68.6 | 72.5 | 60.2 | 76.0 | 79.5 | 75.5 | 68.6 | 64.6 | 61.7 | 60.5 |\n",
       "\n"
      ],
      "text/plain": [
       "  Time Result PASS PBLK RECV RUN  RBLK RDEF TACK PRSH COV  SPEC\n",
       "1 3.0  O      67.7 70.9 77.4 71.5 64.2 31.8 29.8 59.7 49.4 67.7\n",
       "2 2.0  U      78.8 62.7 66.4 73.5 65.1 59.3 39.3 68.6 56.3 44.5\n",
       "3 3.0  O      91.5 84.5 74.3 52.3 56.9 30.9 51.0 63.6 69.3 65.4\n",
       "4 3.0  O      44.5 78.0 66.2 57.6 69.2 69.7 75.8 58.3 64.4 61.1\n",
       "5 1.0  U      84.1 71.5 72.7 55.2 59.8 60.0 59.9 62.4 47.2 55.0\n",
       "6 2.5  O      68.6 72.5 60.2 76.0 79.5 75.5 68.6 64.6 61.7 60.5"
      ]
     },
     "metadata": {},
     "output_type": "display_data"
    }
   ],
   "source": [
    "drops <- c(\"PA\")\n",
    "df <- df[ , !(names(df) %in% drops)]\n",
    "head(df)"
   ]
  },
  {
   "cell_type": "markdown",
   "id": "extended-invasion",
   "metadata": {},
   "source": [
    "Replace the 'O' and 'U' with 1 and 0 to make the column numeric"
   ]
  },
  {
   "cell_type": "code",
   "execution_count": 5,
   "id": "understanding-mayor",
   "metadata": {},
   "outputs": [
    {
     "data": {
      "text/html": [
       "<style>\n",
       ".list-inline {list-style: none; margin:0; padding: 0}\n",
       ".list-inline>li {display: inline-block}\n",
       ".list-inline>li:not(:last-child)::after {content: \"\\00b7\"; padding: 0 .5ex}\n",
       "</style>\n",
       "<ol class=list-inline><li>1</li><li>0</li><li>1</li><li>1</li><li>0</li><li>1</li><li>1</li><li>1</li><li>0</li><li>1</li><li>0</li><li>1</li><li>1</li><li>0</li><li>0</li><li>0</li><li>1</li><li>1</li><li>1</li><li>1</li><li>0</li><li>0</li><li>1</li><li>0</li><li>0</li><li>0</li><li>1</li><li>1</li><li>1</li><li>1</li><li>1</li><li>1</li><li>1</li><li>1</li><li>1</li></ol>\n"
      ],
      "text/latex": [
       "\\begin{enumerate*}\n",
       "\\item 1\n",
       "\\item 0\n",
       "\\item 1\n",
       "\\item 1\n",
       "\\item 0\n",
       "\\item 1\n",
       "\\item 1\n",
       "\\item 1\n",
       "\\item 0\n",
       "\\item 1\n",
       "\\item 0\n",
       "\\item 1\n",
       "\\item 1\n",
       "\\item 0\n",
       "\\item 0\n",
       "\\item 0\n",
       "\\item 1\n",
       "\\item 1\n",
       "\\item 1\n",
       "\\item 1\n",
       "\\item 0\n",
       "\\item 0\n",
       "\\item 1\n",
       "\\item 0\n",
       "\\item 0\n",
       "\\item 0\n",
       "\\item 1\n",
       "\\item 1\n",
       "\\item 1\n",
       "\\item 1\n",
       "\\item 1\n",
       "\\item 1\n",
       "\\item 1\n",
       "\\item 1\n",
       "\\item 1\n",
       "\\end{enumerate*}\n"
      ],
      "text/markdown": [
       "1. 1\n",
       "2. 0\n",
       "3. 1\n",
       "4. 1\n",
       "5. 0\n",
       "6. 1\n",
       "7. 1\n",
       "8. 1\n",
       "9. 0\n",
       "10. 1\n",
       "11. 0\n",
       "12. 1\n",
       "13. 1\n",
       "14. 0\n",
       "15. 0\n",
       "16. 0\n",
       "17. 1\n",
       "18. 1\n",
       "19. 1\n",
       "20. 1\n",
       "21. 0\n",
       "22. 0\n",
       "23. 1\n",
       "24. 0\n",
       "25. 0\n",
       "26. 0\n",
       "27. 1\n",
       "28. 1\n",
       "29. 1\n",
       "30. 1\n",
       "31. 1\n",
       "32. 1\n",
       "33. 1\n",
       "34. 1\n",
       "35. 1\n",
       "\n",
       "\n"
      ],
      "text/plain": [
       " [1] 1 0 1 1 0 1 1 1 0 1 0 1 1 0 0 0 1 1 1 1 0 0 1 0 0 0 1 1 1 1 1 1 1 1 1"
      ]
     },
     "metadata": {},
     "output_type": "display_data"
    }
   ],
   "source": [
    "df$Result <- sub(\"O\", 1, df$Result)\n",
    "df$Result <- sub(\"U\", 0, df$Result)\n",
    "df$Result <- as.numeric(df$Result)\n",
    "df$Result"
   ]
  },
  {
   "cell_type": "code",
   "execution_count": 6,
   "id": "drawn-baseline",
   "metadata": {},
   "outputs": [
    {
     "data": {
      "text/html": [
       "<table>\n",
       "<caption>A data.frame: 6 × 12</caption>\n",
       "<thead>\n",
       "\t<tr><th></th><th scope=col>Time</th><th scope=col>Result</th><th scope=col>PASS</th><th scope=col>PBLK</th><th scope=col>RECV</th><th scope=col>RUN</th><th scope=col>RBLK</th><th scope=col>RDEF</th><th scope=col>TACK</th><th scope=col>PRSH</th><th scope=col>COV</th><th scope=col>SPEC</th></tr>\n",
       "\t<tr><th></th><th scope=col>&lt;dbl&gt;</th><th scope=col>&lt;dbl&gt;</th><th scope=col>&lt;dbl&gt;</th><th scope=col>&lt;dbl&gt;</th><th scope=col>&lt;dbl&gt;</th><th scope=col>&lt;dbl&gt;</th><th scope=col>&lt;dbl&gt;</th><th scope=col>&lt;dbl&gt;</th><th scope=col>&lt;dbl&gt;</th><th scope=col>&lt;dbl&gt;</th><th scope=col>&lt;dbl&gt;</th><th scope=col>&lt;dbl&gt;</th></tr>\n",
       "</thead>\n",
       "<tbody>\n",
       "\t<tr><th scope=row>1</th><td>3.0</td><td>1</td><td>67.7</td><td>70.9</td><td>77.4</td><td>71.5</td><td>64.2</td><td>31.8</td><td>29.8</td><td>59.7</td><td>49.4</td><td>67.7</td></tr>\n",
       "\t<tr><th scope=row>2</th><td>2.0</td><td>0</td><td>78.8</td><td>62.7</td><td>66.4</td><td>73.5</td><td>65.1</td><td>59.3</td><td>39.3</td><td>68.6</td><td>56.3</td><td>44.5</td></tr>\n",
       "\t<tr><th scope=row>3</th><td>3.0</td><td>1</td><td>91.5</td><td>84.5</td><td>74.3</td><td>52.3</td><td>56.9</td><td>30.9</td><td>51.0</td><td>63.6</td><td>69.3</td><td>65.4</td></tr>\n",
       "\t<tr><th scope=row>4</th><td>3.0</td><td>1</td><td>44.5</td><td>78.0</td><td>66.2</td><td>57.6</td><td>69.2</td><td>69.7</td><td>75.8</td><td>58.3</td><td>64.4</td><td>61.1</td></tr>\n",
       "\t<tr><th scope=row>5</th><td>1.0</td><td>0</td><td>84.1</td><td>71.5</td><td>72.7</td><td>55.2</td><td>59.8</td><td>60.0</td><td>59.9</td><td>62.4</td><td>47.2</td><td>55.0</td></tr>\n",
       "\t<tr><th scope=row>6</th><td>2.5</td><td>1</td><td>68.6</td><td>72.5</td><td>60.2</td><td>76.0</td><td>79.5</td><td>75.5</td><td>68.6</td><td>64.6</td><td>61.7</td><td>60.5</td></tr>\n",
       "</tbody>\n",
       "</table>\n"
      ],
      "text/latex": [
       "A data.frame: 6 × 12\n",
       "\\begin{tabular}{r|llllllllllll}\n",
       "  & Time & Result & PASS & PBLK & RECV & RUN & RBLK & RDEF & TACK & PRSH & COV & SPEC\\\\\n",
       "  & <dbl> & <dbl> & <dbl> & <dbl> & <dbl> & <dbl> & <dbl> & <dbl> & <dbl> & <dbl> & <dbl> & <dbl>\\\\\n",
       "\\hline\n",
       "\t1 & 3.0 & 1 & 67.7 & 70.9 & 77.4 & 71.5 & 64.2 & 31.8 & 29.8 & 59.7 & 49.4 & 67.7\\\\\n",
       "\t2 & 2.0 & 0 & 78.8 & 62.7 & 66.4 & 73.5 & 65.1 & 59.3 & 39.3 & 68.6 & 56.3 & 44.5\\\\\n",
       "\t3 & 3.0 & 1 & 91.5 & 84.5 & 74.3 & 52.3 & 56.9 & 30.9 & 51.0 & 63.6 & 69.3 & 65.4\\\\\n",
       "\t4 & 3.0 & 1 & 44.5 & 78.0 & 66.2 & 57.6 & 69.2 & 69.7 & 75.8 & 58.3 & 64.4 & 61.1\\\\\n",
       "\t5 & 1.0 & 0 & 84.1 & 71.5 & 72.7 & 55.2 & 59.8 & 60.0 & 59.9 & 62.4 & 47.2 & 55.0\\\\\n",
       "\t6 & 2.5 & 1 & 68.6 & 72.5 & 60.2 & 76.0 & 79.5 & 75.5 & 68.6 & 64.6 & 61.7 & 60.5\\\\\n",
       "\\end{tabular}\n"
      ],
      "text/markdown": [
       "\n",
       "A data.frame: 6 × 12\n",
       "\n",
       "| <!--/--> | Time &lt;dbl&gt; | Result &lt;dbl&gt; | PASS &lt;dbl&gt; | PBLK &lt;dbl&gt; | RECV &lt;dbl&gt; | RUN &lt;dbl&gt; | RBLK &lt;dbl&gt; | RDEF &lt;dbl&gt; | TACK &lt;dbl&gt; | PRSH &lt;dbl&gt; | COV &lt;dbl&gt; | SPEC &lt;dbl&gt; |\n",
       "|---|---|---|---|---|---|---|---|---|---|---|---|---|\n",
       "| 1 | 3.0 | 1 | 67.7 | 70.9 | 77.4 | 71.5 | 64.2 | 31.8 | 29.8 | 59.7 | 49.4 | 67.7 |\n",
       "| 2 | 2.0 | 0 | 78.8 | 62.7 | 66.4 | 73.5 | 65.1 | 59.3 | 39.3 | 68.6 | 56.3 | 44.5 |\n",
       "| 3 | 3.0 | 1 | 91.5 | 84.5 | 74.3 | 52.3 | 56.9 | 30.9 | 51.0 | 63.6 | 69.3 | 65.4 |\n",
       "| 4 | 3.0 | 1 | 44.5 | 78.0 | 66.2 | 57.6 | 69.2 | 69.7 | 75.8 | 58.3 | 64.4 | 61.1 |\n",
       "| 5 | 1.0 | 0 | 84.1 | 71.5 | 72.7 | 55.2 | 59.8 | 60.0 | 59.9 | 62.4 | 47.2 | 55.0 |\n",
       "| 6 | 2.5 | 1 | 68.6 | 72.5 | 60.2 | 76.0 | 79.5 | 75.5 | 68.6 | 64.6 | 61.7 | 60.5 |\n",
       "\n"
      ],
      "text/plain": [
       "  Time Result PASS PBLK RECV RUN  RBLK RDEF TACK PRSH COV  SPEC\n",
       "1 3.0  1      67.7 70.9 77.4 71.5 64.2 31.8 29.8 59.7 49.4 67.7\n",
       "2 2.0  0      78.8 62.7 66.4 73.5 65.1 59.3 39.3 68.6 56.3 44.5\n",
       "3 3.0  1      91.5 84.5 74.3 52.3 56.9 30.9 51.0 63.6 69.3 65.4\n",
       "4 3.0  1      44.5 78.0 66.2 57.6 69.2 69.7 75.8 58.3 64.4 61.1\n",
       "5 1.0  0      84.1 71.5 72.7 55.2 59.8 60.0 59.9 62.4 47.2 55.0\n",
       "6 2.5  1      68.6 72.5 60.2 76.0 79.5 75.5 68.6 64.6 61.7 60.5"
      ]
     },
     "metadata": {},
     "output_type": "display_data"
    }
   ],
   "source": [
    "head(df)"
   ]
  },
  {
   "cell_type": "markdown",
   "id": "printable-hydrogen",
   "metadata": {},
   "source": [
    "### Check/Remove Correlated Data"
   ]
  },
  {
   "cell_type": "markdown",
   "id": "furnished-bracelet",
   "metadata": {},
   "source": [
    "We will now check for any correlated categories, which should be removed as standard practice to avoid double counting which can skew the model"
   ]
  },
  {
   "cell_type": "code",
   "execution_count": 7,
   "id": "casual-furniture",
   "metadata": {},
   "outputs": [
    {
     "data": {
      "text/html": [
       "<table>\n",
       "<caption>A matrix: 12 × 12 of type dbl</caption>\n",
       "<thead>\n",
       "\t<tr><th></th><th scope=col>Time</th><th scope=col>Result</th><th scope=col>PASS</th><th scope=col>PBLK</th><th scope=col>RECV</th><th scope=col>RUN</th><th scope=col>RBLK</th><th scope=col>RDEF</th><th scope=col>TACK</th><th scope=col>PRSH</th><th scope=col>COV</th><th scope=col>SPEC</th></tr>\n",
       "</thead>\n",
       "<tbody>\n",
       "\t<tr><th scope=row>Time</th><td> 1.000000000</td><td> 0.22177821</td><td>-0.008020886</td><td>-0.3631432660</td><td>-0.07487200</td><td>-0.040713012</td><td> 0.2022834569</td><td>-0.24662146</td><td>-0.112841852</td><td>-0.117332787</td><td> 0.018195691</td><td> 0.01340443</td></tr>\n",
       "\t<tr><th scope=row>Result</th><td> 0.221778211</td><td> 1.00000000</td><td> 0.175296087</td><td> 0.4380372316</td><td>-0.13360991</td><td>-0.046009545</td><td> 0.0395247824</td><td> 0.03588837</td><td>-0.019442051</td><td>-0.226706683</td><td> 0.358260902</td><td> 0.14470148</td></tr>\n",
       "\t<tr><th scope=row>PASS</th><td>-0.008020886</td><td> 0.17529609</td><td> 1.000000000</td><td> 0.1457058972</td><td> 0.32823377</td><td>-0.089203176</td><td>-0.0983874762</td><td>-0.15985691</td><td>-0.145515914</td><td> 0.011478485</td><td> 0.100327343</td><td>-0.24543486</td></tr>\n",
       "\t<tr><th scope=row>PBLK</th><td>-0.363143266</td><td> 0.43803723</td><td> 0.145705897</td><td> 1.0000000000</td><td> 0.14412863</td><td>-0.094428136</td><td>-0.0002999483</td><td> 0.02569770</td><td> 0.038422175</td><td> 0.078856749</td><td> 0.108429358</td><td>-0.01640191</td></tr>\n",
       "\t<tr><th scope=row>RECV</th><td>-0.074872000</td><td>-0.13360991</td><td> 0.328233766</td><td> 0.1441286260</td><td> 1.00000000</td><td>-0.074116037</td><td>-0.1833448951</td><td>-0.03690125</td><td> 0.060738044</td><td> 0.418398288</td><td>-0.235618951</td><td>-0.18681043</td></tr>\n",
       "\t<tr><th scope=row>RUN</th><td>-0.040713012</td><td>-0.04600954</td><td>-0.089203176</td><td>-0.0944281362</td><td>-0.07411604</td><td> 1.000000000</td><td> 0.4822905185</td><td> 0.05495785</td><td>-0.086825837</td><td> 0.039588002</td><td> 0.005782708</td><td> 0.28679744</td></tr>\n",
       "\t<tr><th scope=row>RBLK</th><td> 0.202283457</td><td> 0.03952478</td><td>-0.098387476</td><td>-0.0002999483</td><td>-0.18334490</td><td> 0.482290519</td><td> 1.0000000000</td><td>-0.33841943</td><td>-0.179208347</td><td>-0.007772737</td><td>-0.091647881</td><td> 0.03627559</td></tr>\n",
       "\t<tr><th scope=row>RDEF</th><td>-0.246621460</td><td> 0.03588837</td><td>-0.159856906</td><td> 0.0256976989</td><td>-0.03690125</td><td> 0.054957846</td><td>-0.3384194280</td><td> 1.00000000</td><td> 0.430119089</td><td> 0.059255251</td><td>-0.054066727</td><td> 0.03895413</td></tr>\n",
       "\t<tr><th scope=row>TACK</th><td>-0.112841852</td><td>-0.01944205</td><td>-0.145515914</td><td> 0.0384221745</td><td> 0.06073804</td><td>-0.086825837</td><td>-0.1792083472</td><td> 0.43011909</td><td> 1.000000000</td><td> 0.009375633</td><td> 0.350739317</td><td> 0.02396388</td></tr>\n",
       "\t<tr><th scope=row>PRSH</th><td>-0.117332787</td><td>-0.22670668</td><td> 0.011478485</td><td> 0.0788567493</td><td> 0.41839829</td><td> 0.039588002</td><td>-0.0077727370</td><td> 0.05925525</td><td> 0.009375633</td><td> 1.000000000</td><td>-0.309232683</td><td>-0.21545410</td></tr>\n",
       "\t<tr><th scope=row>COV</th><td> 0.018195691</td><td> 0.35826090</td><td> 0.100327343</td><td> 0.1084293585</td><td>-0.23561895</td><td> 0.005782708</td><td>-0.0916478812</td><td>-0.05406673</td><td> 0.350739317</td><td>-0.309232683</td><td> 1.000000000</td><td> 0.29707431</td></tr>\n",
       "\t<tr><th scope=row>SPEC</th><td> 0.013404434</td><td> 0.14470148</td><td>-0.245434861</td><td>-0.0164019140</td><td>-0.18681043</td><td> 0.286797443</td><td> 0.0362755874</td><td> 0.03895413</td><td> 0.023963881</td><td>-0.215454103</td><td> 0.297074306</td><td> 1.00000000</td></tr>\n",
       "</tbody>\n",
       "</table>\n"
      ],
      "text/latex": [
       "A matrix: 12 × 12 of type dbl\n",
       "\\begin{tabular}{r|llllllllllll}\n",
       "  & Time & Result & PASS & PBLK & RECV & RUN & RBLK & RDEF & TACK & PRSH & COV & SPEC\\\\\n",
       "\\hline\n",
       "\tTime &  1.000000000 &  0.22177821 & -0.008020886 & -0.3631432660 & -0.07487200 & -0.040713012 &  0.2022834569 & -0.24662146 & -0.112841852 & -0.117332787 &  0.018195691 &  0.01340443\\\\\n",
       "\tResult &  0.221778211 &  1.00000000 &  0.175296087 &  0.4380372316 & -0.13360991 & -0.046009545 &  0.0395247824 &  0.03588837 & -0.019442051 & -0.226706683 &  0.358260902 &  0.14470148\\\\\n",
       "\tPASS & -0.008020886 &  0.17529609 &  1.000000000 &  0.1457058972 &  0.32823377 & -0.089203176 & -0.0983874762 & -0.15985691 & -0.145515914 &  0.011478485 &  0.100327343 & -0.24543486\\\\\n",
       "\tPBLK & -0.363143266 &  0.43803723 &  0.145705897 &  1.0000000000 &  0.14412863 & -0.094428136 & -0.0002999483 &  0.02569770 &  0.038422175 &  0.078856749 &  0.108429358 & -0.01640191\\\\\n",
       "\tRECV & -0.074872000 & -0.13360991 &  0.328233766 &  0.1441286260 &  1.00000000 & -0.074116037 & -0.1833448951 & -0.03690125 &  0.060738044 &  0.418398288 & -0.235618951 & -0.18681043\\\\\n",
       "\tRUN & -0.040713012 & -0.04600954 & -0.089203176 & -0.0944281362 & -0.07411604 &  1.000000000 &  0.4822905185 &  0.05495785 & -0.086825837 &  0.039588002 &  0.005782708 &  0.28679744\\\\\n",
       "\tRBLK &  0.202283457 &  0.03952478 & -0.098387476 & -0.0002999483 & -0.18334490 &  0.482290519 &  1.0000000000 & -0.33841943 & -0.179208347 & -0.007772737 & -0.091647881 &  0.03627559\\\\\n",
       "\tRDEF & -0.246621460 &  0.03588837 & -0.159856906 &  0.0256976989 & -0.03690125 &  0.054957846 & -0.3384194280 &  1.00000000 &  0.430119089 &  0.059255251 & -0.054066727 &  0.03895413\\\\\n",
       "\tTACK & -0.112841852 & -0.01944205 & -0.145515914 &  0.0384221745 &  0.06073804 & -0.086825837 & -0.1792083472 &  0.43011909 &  1.000000000 &  0.009375633 &  0.350739317 &  0.02396388\\\\\n",
       "\tPRSH & -0.117332787 & -0.22670668 &  0.011478485 &  0.0788567493 &  0.41839829 &  0.039588002 & -0.0077727370 &  0.05925525 &  0.009375633 &  1.000000000 & -0.309232683 & -0.21545410\\\\\n",
       "\tCOV &  0.018195691 &  0.35826090 &  0.100327343 &  0.1084293585 & -0.23561895 &  0.005782708 & -0.0916478812 & -0.05406673 &  0.350739317 & -0.309232683 &  1.000000000 &  0.29707431\\\\\n",
       "\tSPEC &  0.013404434 &  0.14470148 & -0.245434861 & -0.0164019140 & -0.18681043 &  0.286797443 &  0.0362755874 &  0.03895413 &  0.023963881 & -0.215454103 &  0.297074306 &  1.00000000\\\\\n",
       "\\end{tabular}\n"
      ],
      "text/markdown": [
       "\n",
       "A matrix: 12 × 12 of type dbl\n",
       "\n",
       "| <!--/--> | Time | Result | PASS | PBLK | RECV | RUN | RBLK | RDEF | TACK | PRSH | COV | SPEC |\n",
       "|---|---|---|---|---|---|---|---|---|---|---|---|---|\n",
       "| Time |  1.000000000 |  0.22177821 | -0.008020886 | -0.3631432660 | -0.07487200 | -0.040713012 |  0.2022834569 | -0.24662146 | -0.112841852 | -0.117332787 |  0.018195691 |  0.01340443 |\n",
       "| Result |  0.221778211 |  1.00000000 |  0.175296087 |  0.4380372316 | -0.13360991 | -0.046009545 |  0.0395247824 |  0.03588837 | -0.019442051 | -0.226706683 |  0.358260902 |  0.14470148 |\n",
       "| PASS | -0.008020886 |  0.17529609 |  1.000000000 |  0.1457058972 |  0.32823377 | -0.089203176 | -0.0983874762 | -0.15985691 | -0.145515914 |  0.011478485 |  0.100327343 | -0.24543486 |\n",
       "| PBLK | -0.363143266 |  0.43803723 |  0.145705897 |  1.0000000000 |  0.14412863 | -0.094428136 | -0.0002999483 |  0.02569770 |  0.038422175 |  0.078856749 |  0.108429358 | -0.01640191 |\n",
       "| RECV | -0.074872000 | -0.13360991 |  0.328233766 |  0.1441286260 |  1.00000000 | -0.074116037 | -0.1833448951 | -0.03690125 |  0.060738044 |  0.418398288 | -0.235618951 | -0.18681043 |\n",
       "| RUN | -0.040713012 | -0.04600954 | -0.089203176 | -0.0944281362 | -0.07411604 |  1.000000000 |  0.4822905185 |  0.05495785 | -0.086825837 |  0.039588002 |  0.005782708 |  0.28679744 |\n",
       "| RBLK |  0.202283457 |  0.03952478 | -0.098387476 | -0.0002999483 | -0.18334490 |  0.482290519 |  1.0000000000 | -0.33841943 | -0.179208347 | -0.007772737 | -0.091647881 |  0.03627559 |\n",
       "| RDEF | -0.246621460 |  0.03588837 | -0.159856906 |  0.0256976989 | -0.03690125 |  0.054957846 | -0.3384194280 |  1.00000000 |  0.430119089 |  0.059255251 | -0.054066727 |  0.03895413 |\n",
       "| TACK | -0.112841852 | -0.01944205 | -0.145515914 |  0.0384221745 |  0.06073804 | -0.086825837 | -0.1792083472 |  0.43011909 |  1.000000000 |  0.009375633 |  0.350739317 |  0.02396388 |\n",
       "| PRSH | -0.117332787 | -0.22670668 |  0.011478485 |  0.0788567493 |  0.41839829 |  0.039588002 | -0.0077727370 |  0.05925525 |  0.009375633 |  1.000000000 | -0.309232683 | -0.21545410 |\n",
       "| COV |  0.018195691 |  0.35826090 |  0.100327343 |  0.1084293585 | -0.23561895 |  0.005782708 | -0.0916478812 | -0.05406673 |  0.350739317 | -0.309232683 |  1.000000000 |  0.29707431 |\n",
       "| SPEC |  0.013404434 |  0.14470148 | -0.245434861 | -0.0164019140 | -0.18681043 |  0.286797443 |  0.0362755874 |  0.03895413 |  0.023963881 | -0.215454103 |  0.297074306 |  1.00000000 |\n",
       "\n"
      ],
      "text/plain": [
       "       Time         Result      PASS         PBLK          RECV       \n",
       "Time    1.000000000  0.22177821 -0.008020886 -0.3631432660 -0.07487200\n",
       "Result  0.221778211  1.00000000  0.175296087  0.4380372316 -0.13360991\n",
       "PASS   -0.008020886  0.17529609  1.000000000  0.1457058972  0.32823377\n",
       "PBLK   -0.363143266  0.43803723  0.145705897  1.0000000000  0.14412863\n",
       "RECV   -0.074872000 -0.13360991  0.328233766  0.1441286260  1.00000000\n",
       "RUN    -0.040713012 -0.04600954 -0.089203176 -0.0944281362 -0.07411604\n",
       "RBLK    0.202283457  0.03952478 -0.098387476 -0.0002999483 -0.18334490\n",
       "RDEF   -0.246621460  0.03588837 -0.159856906  0.0256976989 -0.03690125\n",
       "TACK   -0.112841852 -0.01944205 -0.145515914  0.0384221745  0.06073804\n",
       "PRSH   -0.117332787 -0.22670668  0.011478485  0.0788567493  0.41839829\n",
       "COV     0.018195691  0.35826090  0.100327343  0.1084293585 -0.23561895\n",
       "SPEC    0.013404434  0.14470148 -0.245434861 -0.0164019140 -0.18681043\n",
       "       RUN          RBLK          RDEF        TACK         PRSH        \n",
       "Time   -0.040713012  0.2022834569 -0.24662146 -0.112841852 -0.117332787\n",
       "Result -0.046009545  0.0395247824  0.03588837 -0.019442051 -0.226706683\n",
       "PASS   -0.089203176 -0.0983874762 -0.15985691 -0.145515914  0.011478485\n",
       "PBLK   -0.094428136 -0.0002999483  0.02569770  0.038422175  0.078856749\n",
       "RECV   -0.074116037 -0.1833448951 -0.03690125  0.060738044  0.418398288\n",
       "RUN     1.000000000  0.4822905185  0.05495785 -0.086825837  0.039588002\n",
       "RBLK    0.482290519  1.0000000000 -0.33841943 -0.179208347 -0.007772737\n",
       "RDEF    0.054957846 -0.3384194280  1.00000000  0.430119089  0.059255251\n",
       "TACK   -0.086825837 -0.1792083472  0.43011909  1.000000000  0.009375633\n",
       "PRSH    0.039588002 -0.0077727370  0.05925525  0.009375633  1.000000000\n",
       "COV     0.005782708 -0.0916478812 -0.05406673  0.350739317 -0.309232683\n",
       "SPEC    0.286797443  0.0362755874  0.03895413  0.023963881 -0.215454103\n",
       "       COV          SPEC       \n",
       "Time    0.018195691  0.01340443\n",
       "Result  0.358260902  0.14470148\n",
       "PASS    0.100327343 -0.24543486\n",
       "PBLK    0.108429358 -0.01640191\n",
       "RECV   -0.235618951 -0.18681043\n",
       "RUN     0.005782708  0.28679744\n",
       "RBLK   -0.091647881  0.03627559\n",
       "RDEF   -0.054066727  0.03895413\n",
       "TACK    0.350739317  0.02396388\n",
       "PRSH   -0.309232683 -0.21545410\n",
       "COV     1.000000000  0.29707431\n",
       "SPEC    0.297074306  1.00000000"
      ]
     },
     "metadata": {},
     "output_type": "display_data"
    }
   ],
   "source": [
    "corrMatrix <- cor(df)  # generates correlation matrix from numeric data.\n",
    "corrMatrix"
   ]
  },
  {
   "cell_type": "markdown",
   "id": "average-hamilton",
   "metadata": {},
   "source": [
    "Identify and remove any correlated data with a pearson correlation coefficient above 0.75"
   ]
  },
  {
   "cell_type": "code",
   "execution_count": 8,
   "id": "republican-belly",
   "metadata": {},
   "outputs": [
    {
     "data": {
      "text/html": [],
      "text/latex": [],
      "text/markdown": [],
      "text/plain": [
       "character(0)"
      ]
     },
     "metadata": {},
     "output_type": "display_data"
    }
   ],
   "source": [
    "highCorrIndex <- findCorrelation(corrMatrix, cutoff=0.75) # returns the indexes of highly-correlated columns\n",
    "corrColNames <- colnames(corrMatrix)[highCorrIndex]       # retrieves the column names from the indecies\n",
    "corrColNames                                              # displays the column names to be removed"
   ]
  },
  {
   "cell_type": "markdown",
   "id": "rocky-florence",
   "metadata": {},
   "source": [
    "## Use SMOTE library to fix skew/minimal data"
   ]
  },
  {
   "cell_type": "markdown",
   "id": "crucial-entry",
   "metadata": {},
   "source": [
    "There are two main issues with the dataset:\n",
    "\n",
    "1. The Chiefs rarely lose, so this creates an imbalance in the training data where 'Over' is twice as represented as 'Under'. To fix this, we will use SMOTE to generate more 'Under' cases.\n",
    "\n",
    "2. Over the last two seasons there are only 35 useable games that accurately estimate the Chiefs, so SMOTE will help extrapolate  hypothetical results to increase the dataset size, and thus accuracy of the model"
   ]
  },
  {
   "cell_type": "markdown",
   "id": "forced-trinidad",
   "metadata": {},
   "source": [
    "Below we will see the initial count of Over and Under results"
   ]
  },
  {
   "cell_type": "code",
   "execution_count": 9,
   "id": "annual-sector",
   "metadata": {},
   "outputs": [
    {
     "data": {
      "text/html": [
       "23"
      ],
      "text/latex": [
       "23"
      ],
      "text/markdown": [
       "23"
      ],
      "text/plain": [
       "[1] 23"
      ]
     },
     "metadata": {},
     "output_type": "display_data"
    }
   ],
   "source": [
    "Result <- df$Result\n",
    "sum(Result == 1)"
   ]
  },
  {
   "cell_type": "code",
   "execution_count": 10,
   "id": "cutting-praise",
   "metadata": {},
   "outputs": [
    {
     "data": {
      "text/html": [
       "12"
      ],
      "text/latex": [
       "12"
      ],
      "text/markdown": [
       "12"
      ],
      "text/plain": [
       "[1] 12"
      ]
     },
     "metadata": {},
     "output_type": "display_data"
    }
   ],
   "source": [
    "sum(Result == 0)"
   ]
  },
  {
   "cell_type": "markdown",
   "id": "absolute-slave",
   "metadata": {},
   "source": [
    "Now we will use SMOTE"
   ]
  },
  {
   "cell_type": "code",
   "execution_count": 11,
   "id": "decent-toyota",
   "metadata": {},
   "outputs": [],
   "source": [
    "df$Result <- as.factor(df$Result)  # this changes Result to a factor, a requirement of SMOTE and of later models"
   ]
  },
  {
   "cell_type": "code",
   "execution_count": 12,
   "id": "architectural-certification",
   "metadata": {},
   "outputs": [],
   "source": [
    "suppressPackageStartupMessages(library(DMwR))                  # library containing SMOTE function\n",
    "df <- SMOTE(Result ~ ., df, perc.over = 500,perc.under=100) # SMOTE Function, perc used to specify number of O/U that need to be generated"
   ]
  },
  {
   "cell_type": "code",
   "execution_count": 13,
   "id": "polished-majority",
   "metadata": {},
   "outputs": [],
   "source": [
    "Result <- df$Result  # we will now save our normalized Result values"
   ]
  },
  {
   "cell_type": "markdown",
   "id": "collective-kansas",
   "metadata": {},
   "source": [
    "We can now see the number of 'Over's and 'Under's in the new data"
   ]
  },
  {
   "cell_type": "code",
   "execution_count": 14,
   "id": "persistent-novelty",
   "metadata": {},
   "outputs": [
    {
     "data": {
      "text/html": [
       "60"
      ],
      "text/latex": [
       "60"
      ],
      "text/markdown": [
       "60"
      ],
      "text/plain": [
       "[1] 60"
      ]
     },
     "metadata": {},
     "output_type": "display_data"
    }
   ],
   "source": [
    "sum(Result == 1)"
   ]
  },
  {
   "cell_type": "code",
   "execution_count": 15,
   "id": "available-citizen",
   "metadata": {},
   "outputs": [
    {
     "data": {
      "text/html": [
       "72"
      ],
      "text/latex": [
       "72"
      ],
      "text/markdown": [
       "72"
      ],
      "text/plain": [
       "[1] 72"
      ]
     },
     "metadata": {},
     "output_type": "display_data"
    }
   ],
   "source": [
    "sum(Result == 0)"
   ]
  },
  {
   "cell_type": "markdown",
   "id": "greek-germany",
   "metadata": {},
   "source": [
    "## Neural Net with hyperparam optimization using H2O"
   ]
  },
  {
   "cell_type": "markdown",
   "id": "actual-establishment",
   "metadata": {},
   "source": [
    "We will now feed the data into a basic Neural Net using the h2o library for a quick implemntation. h2o will also allow for a quick hyperparam optimization as well."
   ]
  },
  {
   "cell_type": "code",
   "execution_count": 16,
   "id": "auburn-lambda",
   "metadata": {},
   "outputs": [
    {
     "name": "stdout",
     "output_type": "stream",
     "text": [
      "\n",
      "H2O is not running yet, starting it now...\n",
      "\n",
      "Note:  In case of errors look at the following log files:\n",
      "    /var/folders/q_/x63jnvxs4r72xyfgkgfvlgc80000gn/T//RtmpJsracE/filed82f385a2aef/h2o_naveenmirapuri_started_from_r.out\n",
      "    /var/folders/q_/x63jnvxs4r72xyfgkgfvlgc80000gn/T//RtmpJsracE/filed82f27b8cdd0/h2o_naveenmirapuri_started_from_r.err\n",
      "\n",
      "\n",
      "Starting H2O JVM and connecting: ... Connection successful!\n",
      "\n",
      "R is connected to the H2O cluster: \n",
      "    H2O cluster uptime:         3 seconds 294 milliseconds \n",
      "    H2O cluster timezone:       America/Los_Angeles \n",
      "    H2O data parsing timezone:  UTC \n",
      "    H2O cluster version:        3.32.0.3 \n",
      "    H2O cluster version age:    25 days  \n",
      "    H2O cluster name:           H2O_started_from_R_naveenmirapuri_qgr694 \n",
      "    H2O cluster total nodes:    1 \n",
      "    H2O cluster total memory:   3.56 GB \n",
      "    H2O cluster total cores:    4 \n",
      "    H2O cluster allowed cores:  4 \n",
      "    H2O cluster healthy:        TRUE \n",
      "    H2O Connection ip:          localhost \n",
      "    H2O Connection port:        54321 \n",
      "    H2O Connection proxy:       NA \n",
      "    H2O Internal Security:      FALSE \n",
      "    H2O API Extensions:         Amazon S3, XGBoost, Algos, AutoML, Core V3, TargetEncoder, Core V4 \n",
      "    R Version:                  R version 4.0.2 (2020-06-22) \n",
      "\n"
     ]
    }
   ],
   "source": [
    "# initialize and import supporting packages for h2o\n",
    "suppressPackageStartupMessages(library(dplyr))\n",
    "suppressPackageStartupMessages(library(h2o))\n",
    "h2o.init()"
   ]
  },
  {
   "cell_type": "code",
   "execution_count": 17,
   "id": "related-blackjack",
   "metadata": {},
   "outputs": [
    {
     "name": "stdout",
     "output_type": "stream",
     "text": [
      "  |======================================================================| 100%\n"
     ]
    }
   ],
   "source": [
    "# we will have to convert our df to an h2o-compatible frame\n",
    "dfH2O <- as.h2o(df)\n",
    "dfH2O['Result'] = as.factor(dfH2O['Result'])"
   ]
  },
  {
   "cell_type": "code",
   "execution_count": 18,
   "id": "mighty-jewelry",
   "metadata": {},
   "outputs": [
    {
     "data": {
      "text/plain": [
       "  Time Result PASS PBLK RECV  RUN RBLK RDEF TACK PRSH  COV SPEC\n",
       "1    3      1 91.5 84.5 74.3 52.3 56.9 30.9 51.0 63.6 69.3 65.4\n",
       "2    3      1 91.5 84.5 74.3 52.3 56.9 30.9 51.0 63.6 69.3 65.4\n",
       "3    1      1 67.9 76.1 63.2 58.1 56.7 66.6 70.9 63.9 49.9 57.6\n",
       "4    1      1 71.8 74.4 74.1 57.8 54.3 69.3 62.4 70.5 58.4 67.5\n",
       "5    1      1 76.9 81.4 67.6 58.1 70.0 28.9 40.6 55.7 63.3 56.7\n",
       "6    2      1 79.9 84.5 80.7 52.0 53.4 55.8 63.4 75.8 65.4 51.2\n",
       "\n",
       "[132 rows x 12 columns] "
      ]
     },
     "metadata": {},
     "output_type": "display_data"
    }
   ],
   "source": [
    "dfH2O   # returns the dimensions of the dataframe to get a better idea before modeling"
   ]
  },
  {
   "cell_type": "markdown",
   "id": "frequent-hawaii",
   "metadata": {},
   "source": [
    "We will also have to split the dataframe now into train (60%), validation (20%), and a final test dataset (20%)"
   ]
  },
  {
   "cell_type": "code",
   "execution_count": 19,
   "id": "ranking-search",
   "metadata": {},
   "outputs": [],
   "source": [
    "split <- h2o.splitFrame(dfH2O, ratios = c(0.6,0.2), seed = 1234)\n",
    "train <- split[[1]]\n",
    "valid <- split[[2]]\n",
    "test <- split[[3]]"
   ]
  },
  {
   "cell_type": "markdown",
   "id": "republican-nature",
   "metadata": {},
   "source": [
    "We will set our response and input variables"
   ]
  },
  {
   "cell_type": "code",
   "execution_count": 20,
   "id": "floppy-printer",
   "metadata": {},
   "outputs": [
    {
     "data": {
      "text/html": [
       "<style>\n",
       ".list-inline {list-style: none; margin:0; padding: 0}\n",
       ".list-inline>li {display: inline-block}\n",
       ".list-inline>li:not(:last-child)::after {content: \"\\00b7\"; padding: 0 .5ex}\n",
       "</style>\n",
       "<ol class=list-inline><li>'Time'</li><li>'PASS'</li><li>'PBLK'</li><li>'RECV'</li><li>'RUN'</li><li>'RBLK'</li><li>'RDEF'</li><li>'TACK'</li><li>'PRSH'</li><li>'COV'</li><li>'SPEC'</li></ol>\n"
      ],
      "text/latex": [
       "\\begin{enumerate*}\n",
       "\\item 'Time'\n",
       "\\item 'PASS'\n",
       "\\item 'PBLK'\n",
       "\\item 'RECV'\n",
       "\\item 'RUN'\n",
       "\\item 'RBLK'\n",
       "\\item 'RDEF'\n",
       "\\item 'TACK'\n",
       "\\item 'PRSH'\n",
       "\\item 'COV'\n",
       "\\item 'SPEC'\n",
       "\\end{enumerate*}\n"
      ],
      "text/markdown": [
       "1. 'Time'\n",
       "2. 'PASS'\n",
       "3. 'PBLK'\n",
       "4. 'RECV'\n",
       "5. 'RUN'\n",
       "6. 'RBLK'\n",
       "7. 'RDEF'\n",
       "8. 'TACK'\n",
       "9. 'PRSH'\n",
       "10. 'COV'\n",
       "11. 'SPEC'\n",
       "\n",
       "\n"
      ],
      "text/plain": [
       " [1] \"Time\" \"PASS\" \"PBLK\" \"RECV\" \"RUN\"  \"RBLK\" \"RDEF\" \"TACK\" \"PRSH\" \"COV\" \n",
       "[11] \"SPEC\""
      ]
     },
     "metadata": {},
     "output_type": "display_data"
    }
   ],
   "source": [
    "response <- \"Result\"\n",
    "predictors <- setdiff(names(df), response)\n",
    "predictors # displays all of the variables we will use to predict attrition"
   ]
  },
  {
   "cell_type": "markdown",
   "id": "sustained-reduction",
   "metadata": {},
   "source": [
    "#### These are the various hyperparameters we will test different combinations of, note that some may not converge"
   ]
  },
  {
   "cell_type": "code",
   "execution_count": 21,
   "id": "preceding-picking",
   "metadata": {},
   "outputs": [],
   "source": [
    "hyper_params <- list(activation = c(\"Rectifier\", \"Maxout\", \"Tanh\", \"RectifierWithDropout\", \"MaxoutWithDropout\", \"TanhWithDropout\"), \n",
    "                     hidden = list(c(50, 50, 50, 50), c(200, 200), c(200, 200, 200), c(200, 200, 200, 200)), \n",
    "                     epochs = c(50, 100, 200), \n",
    "                     l1 = c(0, 0.00001, 0.0001), \n",
    "                     l2 = c(0, 0.00001, 0.0001), \n",
    "                     adaptive_rate = c(TRUE, FALSE), \n",
    "                     rate = c(0, 0.1, 0.005, 0.001), \n",
    "                     rate_annealing = c(1e-8, 1e-7, 1e-6), \n",
    "                     rho = c(0.9, 0.95, 0.99, 0.999), \n",
    "                     epsilon = c(1e-10, 1e-8, 1e-6, 1e-4), \n",
    "                     momentum_start = c(0, 0.5),\n",
    "                     momentum_stable = c(0.99, 0.5, 0), \n",
    "                     input_dropout_ratio = c(0, 0.1, 0.2)\n",
    "                     )"
   ]
  },
  {
   "cell_type": "markdown",
   "id": "killing-brook",
   "metadata": {},
   "source": [
    "This is the criteria we will use to search for the best model"
   ]
  },
  {
   "cell_type": "code",
   "execution_count": 22,
   "id": "choice-conservation",
   "metadata": {},
   "outputs": [],
   "source": [
    "search_criteria <- list(strategy = \"RandomDiscrete\",\n",
    "                        max_runtime_secs = 10*3600,\n",
    "                        max_models = 100,\n",
    "                        stopping_metric = \"AUC\", \n",
    "                        stopping_tolerance = 0.00001, \n",
    "                        stopping_rounds = 5, \n",
    "                        seed = 1234\n",
    "                        )"
   ]
  },
  {
   "cell_type": "code",
   "execution_count": 23,
   "id": "married-communication",
   "metadata": {},
   "outputs": [
    {
     "name": "stdout",
     "output_type": "stream",
     "text": [
      "  |======================================================================| 100%\n"
     ]
    },
    {
     "name": "stderr",
     "output_type": "stream",
     "text": [
      "Warning message in h2o.getGrid(grid_id = grid_id):\n",
      "“Some models were not built due to a failure, for more details run `summary(grid_object, show_stack_traces = TRUE)`”\n"
     ]
    }
   ],
   "source": [
    "# grid of models with different parameters\n",
    "models_dl <- h2o.grid(algorithm = \"deeplearning\", grid_id = \"grd_dl\", x = predictors, y = \"Result\",\n",
    "                      training_frame = train, validation_frame = valid, nfolds = 0, hyper_params = hyper_params,\n",
    "                      search_criteria = search_criteria, stopping_metric = \"AUC\", stopping_tolerance = 1e-3, \n",
    "                      stopping_rounds = 2, seed = 1234)"
   ]
  },
  {
   "cell_type": "code",
   "execution_count": 24,
   "id": "described-cholesterol",
   "metadata": {},
   "outputs": [
    {
     "name": "stderr",
     "output_type": "stream",
     "text": [
      "Warning message in h2o.getGrid(grid_id = \"grd_dl\", sort_by = \"auc\", decreasing = TRUE):\n",
      "“Some models were not built due to a failure, for more details run `summary(grid_object, show_stack_traces = TRUE)`”\n"
     ]
    }
   ],
   "source": [
    "# now we will extract the best model\n",
    "models_dl_sort <- h2o.getGrid(grid_id = \"grd_dl\", sort_by = \"auc\", decreasing = TRUE)\n",
    "models_dl_best <- h2o.getModel(models_dl_sort@model_ids[[1]])"
   ]
  },
  {
   "cell_type": "code",
   "execution_count": 25,
   "id": "hourly-herald",
   "metadata": {},
   "outputs": [
    {
     "data": {
      "text/html": [
       "1"
      ],
      "text/latex": [
       "1"
      ],
      "text/markdown": [
       "1"
      ],
      "text/plain": [
       "[1] 1"
      ]
     },
     "metadata": {},
     "output_type": "display_data"
    }
   ],
   "source": [
    "# Gets the AUC metric for the best neural network model\n",
    "models_dl_best@model$validation_metrics@metrics$AUC"
   ]
  },
  {
   "cell_type": "code",
   "execution_count": 26,
   "id": "alike-brave",
   "metadata": {},
   "outputs": [
    {
     "data": {
      "image/png": "[encoded data removed]",
      "text/plain": [
       "Plot with title “ROC Curve for Best Neural Network Model”"
      ]
     },
     "metadata": {
      "image/png": {
       "height": 420,
       "width": 420
      }
     },
     "output_type": "display_data"
    }
   ],
   "source": [
    "# Creates the ROC curve\n",
    "perf_dl_best <- h2o.performance(models_dl_best, valid)\n",
    "plot(perf_dl_best, type=\"roc\", main=\"ROC Curve for Best Neural Network Model\")"
   ]
  },
  {
   "cell_type": "markdown",
   "id": "criminal-singing",
   "metadata": {},
   "source": [
    "# We can now extract the most important variables from the optimized neural net"
   ]
  },
  {
   "cell_type": "code",
   "execution_count": 27,
   "id": "macro-welcome",
   "metadata": {},
   "outputs": [
    {
     "data": {
      "text/html": [
       "<table>\n",
       "<caption>A data.frame: 6 × 4</caption>\n",
       "<thead>\n",
       "\t<tr><th></th><th scope=col>variable</th><th scope=col>relative_importance</th><th scope=col>scaled_importance</th><th scope=col>percentage</th></tr>\n",
       "\t<tr><th></th><th scope=col>&lt;chr&gt;</th><th scope=col>&lt;dbl&gt;</th><th scope=col>&lt;dbl&gt;</th><th scope=col>&lt;dbl&gt;</th></tr>\n",
       "</thead>\n",
       "<tbody>\n",
       "\t<tr><th scope=row>1</th><td>RDEF</td><td>1.0000000</td><td>1.0000000</td><td>0.11670557</td></tr>\n",
       "\t<tr><th scope=row>2</th><td>RBLK</td><td>0.9589757</td><td>0.9589757</td><td>0.11191780</td></tr>\n",
       "\t<tr><th scope=row>3</th><td>TACK</td><td>0.9122345</td><td>0.9122345</td><td>0.10646285</td></tr>\n",
       "\t<tr><th scope=row>4</th><td>RUN </td><td>0.7746527</td><td>0.7746527</td><td>0.09040629</td></tr>\n",
       "\t<tr><th scope=row>5</th><td>PRSH</td><td>0.7678940</td><td>0.7678940</td><td>0.08961751</td></tr>\n",
       "\t<tr><th scope=row>6</th><td>RECV</td><td>0.7484308</td><td>0.7484308</td><td>0.08734604</td></tr>\n",
       "</tbody>\n",
       "</table>\n"
      ],
      "text/latex": [
       "A data.frame: 6 × 4\n",
       "\\begin{tabular}{r|llll}\n",
       "  & variable & relative\\_importance & scaled\\_importance & percentage\\\\\n",
       "  & <chr> & <dbl> & <dbl> & <dbl>\\\\\n",
       "\\hline\n",
       "\t1 & RDEF & 1.0000000 & 1.0000000 & 0.11670557\\\\\n",
       "\t2 & RBLK & 0.9589757 & 0.9589757 & 0.11191780\\\\\n",
       "\t3 & TACK & 0.9122345 & 0.9122345 & 0.10646285\\\\\n",
       "\t4 & RUN  & 0.7746527 & 0.7746527 & 0.09040629\\\\\n",
       "\t5 & PRSH & 0.7678940 & 0.7678940 & 0.08961751\\\\\n",
       "\t6 & RECV & 0.7484308 & 0.7484308 & 0.08734604\\\\\n",
       "\\end{tabular}\n"
      ],
      "text/markdown": [
       "\n",
       "A data.frame: 6 × 4\n",
       "\n",
       "| <!--/--> | variable &lt;chr&gt; | relative_importance &lt;dbl&gt; | scaled_importance &lt;dbl&gt; | percentage &lt;dbl&gt; |\n",
       "|---|---|---|---|---|\n",
       "| 1 | RDEF | 1.0000000 | 1.0000000 | 0.11670557 |\n",
       "| 2 | RBLK | 0.9589757 | 0.9589757 | 0.11191780 |\n",
       "| 3 | TACK | 0.9122345 | 0.9122345 | 0.10646285 |\n",
       "| 4 | RUN  | 0.7746527 | 0.7746527 | 0.09040629 |\n",
       "| 5 | PRSH | 0.7678940 | 0.7678940 | 0.08961751 |\n",
       "| 6 | RECV | 0.7484308 | 0.7484308 | 0.08734604 |\n",
       "\n"
      ],
      "text/plain": [
       "  variable relative_importance scaled_importance percentage\n",
       "1 RDEF     1.0000000           1.0000000         0.11670557\n",
       "2 RBLK     0.9589757           0.9589757         0.11191780\n",
       "3 TACK     0.9122345           0.9122345         0.10646285\n",
       "4 RUN      0.7746527           0.7746527         0.09040629\n",
       "5 PRSH     0.7678940           0.7678940         0.08961751\n",
       "6 RECV     0.7484308           0.7484308         0.08734604"
      ]
     },
     "metadata": {},
     "output_type": "display_data"
    }
   ],
   "source": [
    "head(as.data.frame(h2o.varimp(models_dl_best)))"
   ]
  },
  {
   "cell_type": "markdown",
   "id": "alpha-socket",
   "metadata": {},
   "source": [
    "Other imp. metrics below"
   ]
  },
  {
   "cell_type": "code",
   "execution_count": 29,
   "id": "killing-vatican",
   "metadata": {},
   "outputs": [
    {
     "data": {
      "text/plain": [
       "H2OBinomialMetrics: deeplearning\n",
       "\n",
       "MSE:  0.1101832\n",
       "RMSE:  0.3319386\n",
       "LogLoss:  0.6425287\n",
       "Mean Per-Class Error:  0\n",
       "AUC:  1\n",
       "AUCPR:  1\n",
       "Gini:  1\n",
       "\n",
       "Confusion Matrix (vertical: actual; across: predicted) for F1-optimal threshold:\n",
       "        0  1    Error   Rate\n",
       "0      10  0 0.000000  =0/10\n",
       "1       0 17 0.000000  =0/17\n",
       "Totals 10 17 0.000000  =0/27\n",
       "\n",
       "Maximum Metrics: Maximum metrics at their respective thresholds\n",
       "                        metric threshold     value idx\n",
       "1                       max f1  0.001806  1.000000   2\n",
       "2                       max f2  0.001806  1.000000   2\n",
       "3                 max f0point5  0.001806  1.000000   2\n",
       "4                 max accuracy  0.001806  1.000000   2\n",
       "5                max precision  1.000000  1.000000   0\n",
       "6                   max recall  0.001806  1.000000   2\n",
       "7              max specificity  1.000000  1.000000   0\n",
       "8             max absolute_mcc  0.001806  1.000000   2\n",
       "9   max min_per_class_accuracy  0.001806  1.000000   2\n",
       "10 max mean_per_class_accuracy  0.001806  1.000000   2\n",
       "11                     max tns  1.000000 10.000000   0\n",
       "12                     max fns  1.000000  3.000000   0\n",
       "13                     max fps  0.000000 10.000000  12\n",
       "14                     max tps  0.001806 17.000000   2\n",
       "15                     max tnr  1.000000  1.000000   0\n",
       "16                     max fnr  1.000000  0.176471   0\n",
       "17                     max fpr  0.000000  1.000000  12\n",
       "18                     max tpr  0.001806  1.000000   2\n",
       "\n",
       "Gains/Lift Table: Extract with `h2o.gainsLift(<model>, <data>)` or `h2o.gainsLift(<model>, valid=<T/F>, xval=<T/F>)`"
      ]
     },
     "metadata": {},
     "output_type": "display_data"
    }
   ],
   "source": [
    "h2o.performance(models_dl_best, test)"
   ]
  },
  {
   "cell_type": "code",
   "execution_count": 30,
   "id": "indoor-winning",
   "metadata": {},
   "outputs": [
    {
     "name": "stdout",
     "output_type": "stream",
     "text": [
      "Are you sure you want to shutdown the H2O instance running at http://localhost:54321/ (Y/N)? Y\n"
     ]
    }
   ],
   "source": [
    "h2o.shutdown()"
   ]
  },
  {
   "cell_type": "code",
   "execution_count": null,
   "id": "invisible-phrase",
   "metadata": {},
   "outputs": [],
   "source": []
  },
  {
   "cell_type": "code",
   "execution_count": null,
   "id": "improving-stream",
   "metadata": {},
   "outputs": [],
   "source": []
  },
  {
   "cell_type": "code",
   "execution_count": null,
   "id": "critical-melbourne",
   "metadata": {},
   "outputs": [],
   "source": []
  },
  {
   "cell_type": "code",
   "execution_count": null,
   "id": "reserved-heavy",
   "metadata": {},
   "outputs": [],
   "source": []
  },
  {
   "cell_type": "code",
   "execution_count": null,
   "id": "cutting-representation",
   "metadata": {},
   "outputs": [],
   "source": []
  }
 ],
 "metadata": {
  "kernelspec": {
   "display_name": "R",
   "language": "R",
   "name": "ir"
  },
  "language_info": {
   "codemirror_mode": "r",
   "file_extension": ".r",
   "mimetype": "text/x-r-source",
   "name": "R",
   "pygments_lexer": "r",
   "version": "4.0.2"
  }
 },
 "nbformat": 4,
 "nbformat_minor": 5
}
